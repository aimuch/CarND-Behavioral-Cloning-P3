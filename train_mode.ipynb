{
 "cells": [
  {
   "cell_type": "markdown",
   "metadata": {},
   "source": [
    "## import libary"
   ]
  },
  {
   "cell_type": "code",
   "execution_count": 1,
   "metadata": {},
   "outputs": [
    {
     "name": "stderr",
     "output_type": "stream",
     "text": [
      "Using TensorFlow backend.\n"
     ]
    }
   ],
   "source": [
    "import os\n",
    "import pandas as pd\n",
    "import numpy as np\n",
    "import matplotlib.image as mping\n",
    "import matplotlib.pyplot as plt\n",
    "import keras\n",
    "from keras.layers import Input, Dense, Lambda, Conv2D, MaxPooling2D, Activation, Cropping2D, Dropout, Flatten\n",
    "from keras.models import Sequential,Model\n",
    "from sklearn.model_selection import train_test_split"
   ]
  },
  {
   "cell_type": "code",
   "execution_count": 2,
   "metadata": {},
   "outputs": [],
   "source": [
    "# def read_csv(csv_pathname):\n",
    "#     csv_colums = [\"center\",\"left\",\"right\",\"steering\",\"throttle\",\"brake\",\"speed\"]\n",
    "#     with open(csv_pathname) as cvsfile:\n",
    "#         csv_data = pd.read_csv(cvsfile,names=csv_colums)\n",
    "#     return csv_data  \n",
    "\n",
    "# csv_data = read_csv(\"./data/driving_log.csv\")\n",
    "# csv_data.head()"
   ]
  },
  {
   "cell_type": "markdown",
   "metadata": {},
   "source": [
    "### import images data"
   ]
  },
  {
   "cell_type": "code",
   "execution_count": 3,
   "metadata": {
    "scrolled": true
   },
   "outputs": [],
   "source": [
    "def getImagesAngles(csv_path):\n",
    "    \"\"\"\n",
    "    Get center, left, right images and angles from csv_data\n",
    "    \n",
    "    Arguments:\n",
    "        csv_data: CVS data\n",
    "    Returns:\n",
    "        centerimages,leftimages,rightimages,angles\n",
    "    \"\"\"\n",
    "    csv_colums = [\"center\",\"left\",\"right\",\"steering\",\"throttle\",\"brake\",\"speed\"]\n",
    "    \n",
    "    # Read CSV file\n",
    "    with open(csv_path) as cvsfile:\n",
    "        csv_data = pd.read_csv(cvsfile,names=csv_colums)\n",
    "    \n",
    "    # Read images and angles\n",
    "    headpath = os.path.split(csv_path)[0]\n",
    "    centerimages = []\n",
    "    leftimages = []\n",
    "    rightimages = []\n",
    "    angles = []\n",
    "    for c,l,r,a in zip(csv_data[\"center\"],csv_data[\"left\"],csv_data[\"right\"],csv_data[\"steering\"]):\n",
    "        c_current_path = headpath + '/IMG/' + c.split('\\\\')[-1] # center images current path\n",
    "        l_current_path = headpath + '/IMG/' + l.split('\\\\')[-1] # left images current path\n",
    "        r_current_path = headpath + '/IMG/' + r.split('\\\\')[-1] # right images current path\n",
    "        \n",
    "        centerimage = mping.imread(c_current_path)\n",
    "        leftimage = mping.imread(l_current_path)\n",
    "        rightimage = mping.imread(r_current_path)\n",
    "        \n",
    "        centerimages.append(centerimage)\n",
    "        leftimages.append(leftimage)\n",
    "        rightimages.append(rightimage)\n",
    "        angles.append(a)\n",
    "    \n",
    "    return centerimages, leftimages, rightimages, angles\n",
    "\n",
    "def combineImagesAngles(centerimages, leftimages, rightimages,angles, correction):\n",
    "    \"\"\"\n",
    "    Combine \"center\", \"left\", \"right\" images using the correction factor \"correction\"\n",
    "    \n",
    "    Returns:\n",
    "        images, measurements\n",
    "    \"\"\"\n",
    "    images = []\n",
    "    images.extend(centerimages)\n",
    "    images.extend(leftimages)\n",
    "    images.extend(rightimages)\n",
    "    \n",
    "    measurements = []\n",
    "    measurements.extend(angles)\n",
    "    measurements.extend(x + correction for x in angles) # left image angle move to center, angle is list can not using (angles - correction)\n",
    "    measurements.extend(x - correction for x in angles) # right image angle move to center\n",
    "    \n",
    "    return np.array(images), np.array(measurements)\n",
    "\n",
    "# def generator(images, angles, batch_size = 128):\n",
    "#     \"\"\"\n",
    "#     Generate the required images and measurments for taining\n",
    "#     \"\"\"\n",
    "#     num_samples = len(images)\n",
    "#     while 1: \n",
    "#         for offset in range(0,num_samples,batch_size):\n",
    "#             batch_images = images[offset:offset + batch_size]\n",
    "#             batch_angles = angles[offset:offset + batch_size]\n",
    "            \n",
    "#         inputs = np.array(batch_images)\n",
    "#         outputs = np.array(batch_angles)\n",
    "#         yield inputs,outputs"
   ]
  },
  {
   "cell_type": "markdown",
   "metadata": {},
   "source": [
    "## Road 1 Anticlockwise data"
   ]
  },
  {
   "cell_type": "code",
   "execution_count": 4,
   "metadata": {},
   "outputs": [
    {
     "name": "stdout",
     "output_type": "stream",
     "text": [
      "(2453, 160, 320, 3)\n",
      "(2453, 160, 320, 3)\n",
      "(2453, 160, 320, 3)\n",
      "(2453,)\n"
     ]
    }
   ],
   "source": [
    "centerimages1, leftimages1,rightimages1,angles1 = getImagesAngles(\"./data1_anticlockwise/driving_log.csv\") \n",
    "print(np.shape(centerimages1))\n",
    "print(np.shape(leftimages1))\n",
    "print(np.shape(rightimages1))\n",
    "print(np.shape(angles1))"
   ]
  },
  {
   "cell_type": "code",
   "execution_count": 5,
   "metadata": {},
   "outputs": [
    {
     "name": "stdout",
     "output_type": "stream",
     "text": [
      "(7359, 160, 320, 3)\n",
      "(7359,)\n"
     ]
    }
   ],
   "source": [
    "X_train1, y_train1 = combineImagesAngles(centerimages1, leftimages1, rightimages1, angles1,0.2)\n",
    "print(X_train1.shape)\n",
    "print(y_train1.shape)"
   ]
  },
  {
   "cell_type": "markdown",
   "metadata": {},
   "source": [
    "## Road 1 Clockwise data"
   ]
  },
  {
   "cell_type": "code",
   "execution_count": 7,
   "metadata": {},
   "outputs": [
    {
     "name": "stdout",
     "output_type": "stream",
     "text": [
      "(1861, 160, 320, 3)\n",
      "(1861, 160, 320, 3)\n",
      "(1861, 160, 320, 3)\n",
      "(1861,)\n"
     ]
    }
   ],
   "source": [
    "centerimages2, leftimages2, rightimages2, angles2 = getImagesAngles(\"./data1_clockwise/driving_log.csv\") \n",
    "print(np.shape(centerimages2))\n",
    "print(np.shape(leftimages2))\n",
    "print(np.shape(rightimages2))\n",
    "print(np.shape(angles2))"
   ]
  },
  {
   "cell_type": "code",
   "execution_count": 8,
   "metadata": {},
   "outputs": [
    {
     "name": "stdout",
     "output_type": "stream",
     "text": [
      "(5583, 160, 320, 3)\n",
      "(5583,)\n"
     ]
    }
   ],
   "source": [
    "X_train2, y_train2 = combineImagesAngles(centerimages2, leftimages2, rightimages2, angles2,0.2)\n",
    "print(X_train2.shape)\n",
    "print(y_train2.shape)"
   ]
  },
  {
   "cell_type": "markdown",
   "metadata": {},
   "source": [
    "## Road 2 data"
   ]
  },
  {
   "cell_type": "code",
   "execution_count": 9,
   "metadata": {},
   "outputs": [
    {
     "name": "stdout",
     "output_type": "stream",
     "text": [
      "(3489, 160, 320, 3)\n",
      "(3489, 160, 320, 3)\n",
      "(3489, 160, 320, 3)\n",
      "(3489,)\n"
     ]
    }
   ],
   "source": [
    "# centerimages3, leftimages3, rightimages3, angles3 = getImagesAngles(\"./data2/driving_log.csv\") \n",
    "# print(np.shape(centerimages3))\n",
    "# print(np.shape(leftimages3))\n",
    "# print(np.shape(rightimages3))\n",
    "# print(np.shape(angles3))"
   ]
  },
  {
   "cell_type": "code",
   "execution_count": 10,
   "metadata": {},
   "outputs": [
    {
     "name": "stdout",
     "output_type": "stream",
     "text": [
      "(10467, 160, 320, 3)\n",
      "(10467,)\n"
     ]
    }
   ],
   "source": [
    "# X_train3, y_train3 = combineImagesAngles(centerimages3, leftimages3,rightimages3,angles3 ,0.2)\n",
    "# print(X_train3.shape)\n",
    "# print(y_train3.shape)"
   ]
  },
  {
   "cell_type": "markdown",
   "metadata": {},
   "source": [
    "## Merge data"
   ]
  },
  {
   "cell_type": "code",
   "execution_count": 18,
   "metadata": {},
   "outputs": [
    {
     "name": "stdout",
     "output_type": "stream",
     "text": [
      "(12942, 160, 320, 3)\n",
      "(12942,)\n"
     ]
    }
   ],
   "source": [
    "X_train = np.concatenate((X_train1, X_train2))\n",
    "y_train = np.concatenate((y_train1, y_train2))\n",
    "print(X_train.shape)\n",
    "print(y_train.shape)"
   ]
  },
  {
   "cell_type": "markdown",
   "metadata": {},
   "source": [
    "## Model Architecture"
   ]
  },
  {
   "cell_type": "code",
   "execution_count": 19,
   "metadata": {},
   "outputs": [
    {
     "name": "stdout",
     "output_type": "stream",
     "text": [
      "_________________________________________________________________\n",
      "Layer (type)                 Output Shape              Param #   \n",
      "=================================================================\n",
      "input_3 (InputLayer)         (None, 160, 320, 3)       0         \n",
      "_________________________________________________________________\n",
      "lambda_3 (Lambda)            (None, 160, 320, 3)       0         \n",
      "_________________________________________________________________\n",
      "cropping2d_3 (Cropping2D)    (None, 65, 320, 3)        0         \n",
      "_________________________________________________________________\n",
      "conv2d_11 (Conv2D)           (None, 31, 158, 24)       1824      \n",
      "_________________________________________________________________\n",
      "conv2d_12 (Conv2D)           (None, 14, 77, 36)        21636     \n",
      "_________________________________________________________________\n",
      "conv2d_13 (Conv2D)           (None, 5, 37, 48)         43248     \n",
      "_________________________________________________________________\n",
      "conv2d_14 (Conv2D)           (None, 3, 35, 64)         27712     \n",
      "_________________________________________________________________\n",
      "conv2d_15 (Conv2D)           (None, 1, 33, 64)         36928     \n",
      "_________________________________________________________________\n",
      "dropout_9 (Dropout)          (None, 1, 33, 64)         0         \n",
      "_________________________________________________________________\n",
      "flatten_3 (Flatten)          (None, 2112)              0         \n",
      "_________________________________________________________________\n",
      "dense_9 (Dense)              (None, 100)               211300    \n",
      "_________________________________________________________________\n",
      "dropout_10 (Dropout)         (None, 100)               0         \n",
      "_________________________________________________________________\n",
      "dense_10 (Dense)             (None, 50)                5050      \n",
      "_________________________________________________________________\n",
      "dropout_11 (Dropout)         (None, 50)                0         \n",
      "_________________________________________________________________\n",
      "dense_11 (Dense)             (None, 10)                510       \n",
      "_________________________________________________________________\n",
      "dropout_12 (Dropout)         (None, 10)                0         \n",
      "_________________________________________________________________\n",
      "dense_12 (Dense)             (None, 1)                 11        \n",
      "=================================================================\n",
      "Total params: 348,219\n",
      "Trainable params: 348,219\n",
      "Non-trainable params: 0\n",
      "_________________________________________________________________\n"
     ]
    }
   ],
   "source": [
    "x = Input(shape=(160,320,3))\n",
    "y = Lambda(lambda x: x/250.0 - 0.5)(x)\n",
    "y = Cropping2D(cropping=((70,25),(0,0)))(y)\n",
    "y = Conv2D(24,kernel_size=(5,5),strides=(2,2),activation='relu',kernel_regularizer=keras.regularizers.l2(0.0005))(y)\n",
    "y = Conv2D(36,kernel_size=(5,5),strides=(2,2),activation='relu',kernel_regularizer=keras.regularizers.l2(0.0005))(y)\n",
    "y = Conv2D(48,kernel_size=(5,5),strides=(2,2),activation='relu',kernel_regularizer=keras.regularizers.l2(0.0005))(y)\n",
    "y = Conv2D(64,kernel_size=(3,3),activation='relu',kernel_regularizer=keras.regularizers.l2(0.0005))(y)\n",
    "y = Conv2D(64,kernel_size=(3,3),activation='relu',kernel_regularizer=keras.regularizers.l2(0.0005))(y)\n",
    "y = Dropout(0.5)(y)\n",
    "y = Flatten()(y)\n",
    "y = Dense(100,kernel_regularizer=keras.regularizers.l2(0.0005))(y)\n",
    "y = Dropout(0.25)(y)\n",
    "y = Dense(50,kernel_regularizer=keras.regularizers.l2(0.0005))(y)\n",
    "y = Dropout(0.25)(y)\n",
    "y = Dense(10,kernel_regularizer=keras.regularizers.l2(0.0005))(y)\n",
    "y = Dropout(0.2)(y)\n",
    "y = Dense(1)(y)\n",
    "model = Model(inputs=x, outputs=y)\n",
    "\n",
    "model.summary()"
   ]
  },
  {
   "cell_type": "code",
   "execution_count": 20,
   "metadata": {},
   "outputs": [],
   "source": [
    "def trainModel(model=model, X_train=X_train, y_train=y_train, batch_size=128, epochs=50, lr=0.0005, patience=10, savefile='./model.h5'):\n",
    "    adam_optimizer = keras.optimizers.Adam(lr=lr)\n",
    "    model.compile(optimizer=adam_optimizer,loss=keras.losses.mean_squared_error)\n",
    "    earlystop = keras.callbacks.EarlyStopping(monitor='val_loss', min_delta=0, patience=patience)\n",
    "    \n",
    "    train_history = model.fit(X_train, y_train, batch_size=128, epochs=epochs, verbose=1, callbacks=[earlystop], validation_split=0.2, shuffle=True)\n",
    "    \n",
    "    model.save(savefile)\n",
    "    \n",
    "    # plot the training and validation loss for each epoch\n",
    "    plt.plot(train_history.history['loss'])\n",
    "    plt.plot(train_history.history['val_loss'])\n",
    "    plt.title('model mean squared error loss')\n",
    "    plt.ylabel('mean squared error loss')\n",
    "    plt.xlabel('epoch')\n",
    "    plt.legend(['training set', 'validation set'], loc='best')\n",
    "    plt.show()"
   ]
  },
  {
   "cell_type": "code",
   "execution_count": 21,
   "metadata": {
    "scrolled": false
   },
   "outputs": [
    {
     "name": "stdout",
     "output_type": "stream",
     "text": [
      "Train on 10353 samples, validate on 2589 samples\n",
      "Epoch 1/50\n",
      "10353/10353 [==============================] - 14s 1ms/step - loss: 0.1834 - val_loss: 0.1306\n",
      "Epoch 2/50\n",
      "10353/10353 [==============================] - 12s 1ms/step - loss: 0.0958 - val_loss: 0.0873\n",
      "Epoch 3/50\n",
      "10353/10353 [==============================] - 12s 1ms/step - loss: 0.0686 - val_loss: 0.0698\n",
      "Epoch 4/50\n",
      "10353/10353 [==============================] - 12s 1ms/step - loss: 0.0556 - val_loss: 0.0609\n",
      "Epoch 5/50\n",
      "10353/10353 [==============================] - 12s 1ms/step - loss: 0.0475 - val_loss: 0.0564\n",
      "Epoch 6/50\n",
      "10353/10353 [==============================] - 12s 1ms/step - loss: 0.0427 - val_loss: 0.0548\n",
      "Epoch 7/50\n",
      "10353/10353 [==============================] - 11s 1ms/step - loss: 0.0391 - val_loss: 0.0458\n",
      "Epoch 8/50\n",
      "10353/10353 [==============================] - 11s 1ms/step - loss: 0.0366 - val_loss: 0.0458\n",
      "Epoch 9/50\n",
      "10353/10353 [==============================] - 11s 1ms/step - loss: 0.0350 - val_loss: 0.0421\n",
      "Epoch 10/50\n",
      "10353/10353 [==============================] - 12s 1ms/step - loss: 0.0337 - val_loss: 0.0443\n",
      "Epoch 11/50\n",
      "10353/10353 [==============================] - 11s 1ms/step - loss: 0.0327 - val_loss: 0.0428\n",
      "Epoch 12/50\n",
      "10353/10353 [==============================] - 12s 1ms/step - loss: 0.0322 - val_loss: 0.0430\n",
      "Epoch 13/50\n",
      "10353/10353 [==============================] - 12s 1ms/step - loss: 0.0315 - val_loss: 0.0408\n",
      "Epoch 14/50\n",
      "10353/10353 [==============================] - 12s 1ms/step - loss: 0.0314 - val_loss: 0.0400\n",
      "Epoch 15/50\n",
      "10353/10353 [==============================] - 12s 1ms/step - loss: 0.0308 - val_loss: 0.0397\n",
      "Epoch 16/50\n",
      "10353/10353 [==============================] - 12s 1ms/step - loss: 0.0304 - val_loss: 0.0453\n",
      "Epoch 17/50\n",
      "10353/10353 [==============================] - 12s 1ms/step - loss: 0.0307 - val_loss: 0.0380\n",
      "Epoch 18/50\n",
      "10353/10353 [==============================] - 12s 1ms/step - loss: 0.0297 - val_loss: 0.0423\n",
      "Epoch 19/50\n",
      "10353/10353 [==============================] - 12s 1ms/step - loss: 0.0298 - val_loss: 0.0395\n",
      "Epoch 20/50\n",
      "10353/10353 [==============================] - 12s 1ms/step - loss: 0.0296 - val_loss: 0.0398\n",
      "Epoch 21/50\n",
      "10353/10353 [==============================] - 11s 1ms/step - loss: 0.0296 - val_loss: 0.0376\n",
      "Epoch 22/50\n",
      "10353/10353 [==============================] - 11s 1ms/step - loss: 0.0290 - val_loss: 0.0411\n",
      "Epoch 23/50\n",
      "10353/10353 [==============================] - 11s 1ms/step - loss: 0.0295 - val_loss: 0.0372\n",
      "Epoch 24/50\n",
      "10353/10353 [==============================] - 11s 1ms/step - loss: 0.0293 - val_loss: 0.0365\n",
      "Epoch 25/50\n",
      "10353/10353 [==============================] - 11s 1ms/step - loss: 0.0290 - val_loss: 0.0408\n",
      "Epoch 26/50\n",
      "10353/10353 [==============================] - 11s 1ms/step - loss: 0.0286 - val_loss: 0.0380\n",
      "Epoch 27/50\n",
      "10353/10353 [==============================] - 12s 1ms/step - loss: 0.0282 - val_loss: 0.0369\n",
      "Epoch 28/50\n",
      "10353/10353 [==============================] - 12s 1ms/step - loss: 0.0285 - val_loss: 0.0383\n",
      "Epoch 29/50\n",
      "10353/10353 [==============================] - 12s 1ms/step - loss: 0.0285 - val_loss: 0.0378\n",
      "Epoch 30/50\n",
      "10353/10353 [==============================] - 12s 1ms/step - loss: 0.0282 - val_loss: 0.0381\n",
      "Epoch 31/50\n",
      "10353/10353 [==============================] - 12s 1ms/step - loss: 0.0282 - val_loss: 0.0388\n",
      "Epoch 32/50\n",
      "10353/10353 [==============================] - 12s 1ms/step - loss: 0.0282 - val_loss: 0.0358\n",
      "Epoch 33/50\n",
      "10353/10353 [==============================] - 12s 1ms/step - loss: 0.0284 - val_loss: 0.0370\n",
      "Epoch 34/50\n",
      "10353/10353 [==============================] - 12s 1ms/step - loss: 0.0277 - val_loss: 0.0367\n",
      "Epoch 35/50\n",
      "10353/10353 [==============================] - 12s 1ms/step - loss: 0.0272 - val_loss: 0.0330\n",
      "Epoch 36/50\n",
      "10353/10353 [==============================] - 11s 1ms/step - loss: 0.0274 - val_loss: 0.0397\n",
      "Epoch 37/50\n",
      "10353/10353 [==============================] - 11s 1ms/step - loss: 0.0278 - val_loss: 0.0348\n",
      "Epoch 38/50\n",
      "10353/10353 [==============================] - 12s 1ms/step - loss: 0.0275 - val_loss: 0.0333\n",
      "Epoch 39/50\n",
      "10353/10353 [==============================] - 12s 1ms/step - loss: 0.0272 - val_loss: 0.0376\n",
      "Epoch 40/50\n",
      "10353/10353 [==============================] - 13s 1ms/step - loss: 0.0273 - val_loss: 0.0345\n",
      "Epoch 41/50\n",
      "10353/10353 [==============================] - 13s 1ms/step - loss: 0.0273 - val_loss: 0.0388\n",
      "Epoch 42/50\n",
      "10353/10353 [==============================] - 13s 1ms/step - loss: 0.0271 - val_loss: 0.0381\n",
      "Epoch 43/50\n",
      "10353/10353 [==============================] - 13s 1ms/step - loss: 0.0266 - val_loss: 0.0326\n",
      "Epoch 44/50\n",
      "10353/10353 [==============================] - 13s 1ms/step - loss: 0.0267 - val_loss: 0.0347\n",
      "Epoch 45/50\n",
      "10353/10353 [==============================] - 12s 1ms/step - loss: 0.0266 - val_loss: 0.0337\n",
      "Epoch 46/50\n",
      "10353/10353 [==============================] - 12s 1ms/step - loss: 0.0268 - val_loss: 0.0373\n",
      "Epoch 47/50\n",
      "10353/10353 [==============================] - 13s 1ms/step - loss: 0.0270 - val_loss: 0.0370\n",
      "Epoch 48/50\n",
      "10353/10353 [==============================] - 12s 1ms/step - loss: 0.0265 - val_loss: 0.0361\n",
      "Epoch 49/50\n",
      "10353/10353 [==============================] - 12s 1ms/step - loss: 0.0264 - val_loss: 0.0348\n",
      "Epoch 50/50\n",
      "10353/10353 [==============================] - 12s 1ms/step - loss: 0.0271 - val_loss: 0.0330\n"
     ]
    },
    {
     "data": {
      "image/png": "[encoded data removed]",
      "text/plain": [
       "<Figure size 432x288 with 1 Axes>"
      ]
     },
     "metadata": {},
     "output_type": "display_data"
    }
   ],
   "source": [
    "trainModel(model,X_train,y_train)"
   ]
  },
  {
   "cell_type": "code",
   "execution_count": 22,
   "metadata": {},
   "outputs": [],
   "source": [
    "from keras.models import load_model\n",
    "\n",
    "def finetuneModel( X_train, y_train, lr=0.0001, loadfile='./model.h5'):\n",
    "    model = load_model(loadfile)\n",
    "    trainModel(model,X_train,y_train,lr=lr,savefile=loadfile)"
   ]
  },
  {
   "cell_type": "code",
   "execution_count": 23,
   "metadata": {},
   "outputs": [
    {
     "name": "stdout",
     "output_type": "stream",
     "text": [
      "Train on 10353 samples, validate on 2589 samples\n",
      "Epoch 1/50\n",
      "10353/10353 [==============================] - 13s 1ms/step - loss: 0.0252 - val_loss: 0.0336\n",
      "Epoch 2/50\n",
      "10353/10353 [==============================] - 12s 1ms/step - loss: 0.0246 - val_loss: 0.0337\n",
      "Epoch 3/50\n",
      "10353/10353 [==============================] - 11s 1ms/step - loss: 0.0244 - val_loss: 0.0370\n",
      "Epoch 4/50\n",
      "10353/10353 [==============================] - 11s 1ms/step - loss: 0.0243 - val_loss: 0.0346\n",
      "Epoch 5/50\n",
      "10353/10353 [==============================] - 11s 1ms/step - loss: 0.0244 - val_loss: 0.0325\n",
      "Epoch 6/50\n",
      "10353/10353 [==============================] - 11s 1ms/step - loss: 0.0239 - val_loss: 0.0330\n",
      "Epoch 7/50\n",
      "10353/10353 [==============================] - 11s 1ms/step - loss: 0.0238 - val_loss: 0.0329\n",
      "Epoch 8/50\n",
      "10353/10353 [==============================] - 11s 1ms/step - loss: 0.0240 - val_loss: 0.0339\n",
      "Epoch 9/50\n",
      "10353/10353 [==============================] - 11s 1ms/step - loss: 0.0237 - val_loss: 0.0320\n",
      "Epoch 10/50\n",
      "10353/10353 [==============================] - 11s 1ms/step - loss: 0.0237 - val_loss: 0.0332\n",
      "Epoch 11/50\n",
      "10353/10353 [==============================] - 11s 1ms/step - loss: 0.0234 - val_loss: 0.0339\n",
      "Epoch 12/50\n",
      "10353/10353 [==============================] - 11s 1ms/step - loss: 0.0237 - val_loss: 0.0317\n",
      "Epoch 13/50\n",
      "10353/10353 [==============================] - 11s 1ms/step - loss: 0.0234 - val_loss: 0.0338\n",
      "Epoch 14/50\n",
      "10353/10353 [==============================] - 11s 1ms/step - loss: 0.0234 - val_loss: 0.0321\n",
      "Epoch 15/50\n",
      "10353/10353 [==============================] - 11s 1ms/step - loss: 0.0234 - val_loss: 0.0318\n",
      "Epoch 16/50\n",
      "10353/10353 [==============================] - 11s 1ms/step - loss: 0.0234 - val_loss: 0.0327\n",
      "Epoch 17/50\n",
      "10353/10353 [==============================] - 11s 1ms/step - loss: 0.0232 - val_loss: 0.0322\n",
      "Epoch 18/50\n",
      "10353/10353 [==============================] - 11s 1ms/step - loss: 0.0228 - val_loss: 0.0322\n",
      "Epoch 19/50\n",
      "10353/10353 [==============================] - 11s 1ms/step - loss: 0.0231 - val_loss: 0.0333\n",
      "Epoch 20/50\n",
      "10353/10353 [==============================] - 11s 1ms/step - loss: 0.0230 - val_loss: 0.0330\n",
      "Epoch 21/50\n",
      "10353/10353 [==============================] - 11s 1ms/step - loss: 0.0231 - val_loss: 0.0333\n",
      "Epoch 22/50\n",
      "10353/10353 [==============================] - 11s 1ms/step - loss: 0.0230 - val_loss: 0.0332\n"
     ]
    },
    {
     "data": {
      "image/png": "[encoded data removed]",
      "text/plain": [
       "<Figure size 432x288 with 1 Axes>"
      ]
     },
     "metadata": {},
     "output_type": "display_data"
    }
   ],
   "source": [
    "finetuneModel(X_train, y_train, lr=0.0001)"
   ]
  }
 ],
 "metadata": {
  "kernelspec": {
   "display_name": "Python 3",
   "language": "python",
   "name": "python3"
  },
  "language_info": {
   "codemirror_mode": {
    "name": "ipython",
    "version": 3
   },
   "file_extension": ".py",
   "mimetype": "text/x-python",
   "name": "python",
   "nbconvert_exporter": "python",
   "pygments_lexer": "ipython3",
   "version": "3.5.4"
  }
 },
 "nbformat": 4,
 "nbformat_minor": 2
}
